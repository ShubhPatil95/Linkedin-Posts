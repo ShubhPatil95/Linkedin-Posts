{
 "cells": [
  {
   "cell_type": "markdown",
   "id": "ceb0ea77",
   "metadata": {},
   "source": [
    "### Copy"
   ]
  },
  {
   "cell_type": "code",
   "execution_count": 15,
   "id": "eaf28b8d",
   "metadata": {},
   "outputs": [],
   "source": [
    "from copy import deepcopy"
   ]
  },
  {
   "cell_type": "code",
   "execution_count": 16,
   "id": "d1b5928c",
   "metadata": {},
   "outputs": [
    {
     "data": {
      "text/plain": [
       "[1, 2, 3, [4, 5]]"
      ]
     },
     "execution_count": 16,
     "metadata": {},
     "output_type": "execute_result"
    }
   ],
   "source": [
    "list1=[1,2,3,[4,5]]\n",
    "list1"
   ]
  },
  {
   "cell_type": "code",
   "execution_count": 17,
   "id": "4cc4724d",
   "metadata": {},
   "outputs": [],
   "source": [
    "# Create shallow copy\n",
    "list2=list1.copy()\n",
    "list2[2]=33333\n",
    "list2[3].append(6666)"
   ]
  },
  {
   "cell_type": "code",
   "execution_count": 18,
   "id": "c0e1159f",
   "metadata": {},
   "outputs": [
    {
     "name": "stdout",
     "output_type": "stream",
     "text": [
      "Changes are reflecting in list2 \n",
      "    list2 => [1, 2, 33333, [4, 5, 6666]]\n",
      "Changes are reflecting in list1 but only in nested element \n",
      "    list1 => [1, 2, 3, [4, 5, 6666]]\n"
     ]
    }
   ],
   "source": [
    "print(\"Changes are reflecting in list2 \\n    list2 =>\",list2)\n",
    "print(\"Changes are reflecting in list1 but only in nested element \\n    list1 =>\",list1)"
   ]
  },
  {
   "cell_type": "markdown",
   "id": "02812421",
   "metadata": {},
   "source": [
    "### deepcopy"
   ]
  },
  {
   "cell_type": "code",
   "execution_count": 19,
   "id": "1c2cbbb6",
   "metadata": {},
   "outputs": [
    {
     "data": {
      "text/plain": [
       "[1, 2, 3, [4, 5]]"
      ]
     },
     "execution_count": 19,
     "metadata": {},
     "output_type": "execute_result"
    }
   ],
   "source": [
    "list1=[1,2,3,[4,5]]\n",
    "list1"
   ]
  },
  {
   "cell_type": "code",
   "execution_count": 20,
   "id": "2aae4f93",
   "metadata": {},
   "outputs": [],
   "source": [
    "# Create deep copy\n",
    "list2=deepcopy(list1)\n",
    "list2[2]=33333\n",
    "list2[3].append(6666)"
   ]
  },
  {
   "cell_type": "code",
   "execution_count": 23,
   "id": "836b9462",
   "metadata": {},
   "outputs": [
    {
     "name": "stdout",
     "output_type": "stream",
     "text": [
      "Changes are reflecting in list2 \n",
      "    list2 => [1, 2, 33333, [4, 5, 6666]]\n",
      "Changes are not reflecting in list1(not even in nested element)\n",
      "    list1 => [1, 2, 3, [4, 5]]\n"
     ]
    }
   ],
   "source": [
    "print(\"Changes are reflecting in list2 \\n    list2 =>\",list2)\n",
    "print(\"Changes are not reflecting in list1(not even in nested element)\\n    list1 =>\",list1)"
   ]
  }
 ],
 "metadata": {
  "kernelspec": {
   "display_name": "Python 3 (ipykernel)",
   "language": "python",
   "name": "python3"
  },
  "language_info": {
   "codemirror_mode": {
    "name": "ipython",
    "version": 3
   },
   "file_extension": ".py",
   "mimetype": "text/x-python",
   "name": "python",
   "nbconvert_exporter": "python",
   "pygments_lexer": "ipython3",
   "version": "3.8.8"
  }
 },
 "nbformat": 4,
 "nbformat_minor": 5
}
